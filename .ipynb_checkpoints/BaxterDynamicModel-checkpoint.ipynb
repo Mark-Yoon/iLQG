{
 "cells": [
  {
   "cell_type": "code",
   "execution_count": 15,
   "metadata": {
    "collapsed": false
   },
   "outputs": [],
   "source": [
    "import numpy as np\n",
    "from random import uniform\n",
    "import time\n",
    "\n",
    "class BaxterDynamicModel:\n",
    "    \"\"\"\n",
    "        dynamic model class for moving baxter arms\n",
    "        - input of iLQRSolver\n",
    "        - return derivatives\n",
    "        - return nextState from currentState and chosen Action\n",
    "        states - 3D coordinates of end effector of baxter\n",
    "        actions - 6 directions(forward, backward, left, right, up, down)\n",
    "        \n",
    "    \"\"\"\n",
    "    \n",
    "    def __init__(self):\n",
    "        self.X = np.zeros((3,1))\n",
    "        self.U = np.zeros((6,1))\n",
    "        self.nextX = np.zeros((3,1))\n",
    "        \n",
    "        # 3-Dim Coordinates\n",
    "        self.x = 0.0\n",
    "        self.y = 0.0\n",
    "        self.z = 0.0\n",
    "        \n",
    "        self.sateNumber = 3\n",
    "        self.commandNumber = 6\n",
    "        \n",
    "        self.fx = np.zeors((3,3))\n",
    "        self.fu = np.zeors((3,6))\n",
    "        \n",
    "        self.B = np.eye(6)\n",
    "        self.Bd = np.eye(6)\n",
    "        \n",
    "        # fxx 3x3  x 3\n",
    "        self.fxx = list()\n",
    "        self.fxx.append(np.zeros((3,3)))\n",
    "        self.fxx.append(np.zeros((3,3)))\n",
    "        self.fxx.append(np.zeros((3,3)))\n",
    "        \n",
    "        # fuu 3x1  x 6\n",
    "        self.fuu = list()\n",
    "        self.fuu.append(np.zeros((6,6))\n",
    "        self.fuu.append(np.zeros((6,6))\n",
    "        self.fuu.append(np.zeros((6,6))\n",
    "                        \n",
    "        self.fux = list()\n",
    "        self.fux.append(np.zeros((6,3)))\n",
    "        self.fux.append(np.zeros((6,3)))\n",
    "        self.fux.append(np.zeros((6,3)))\n",
    "        \n",
    "        self.fxu = list()\n",
    "        self.fxu.append(np.zeros((3,3)))\n",
    "    \n",
    "    def computeNextState(self,dt,X,U):\n",
    "        self.Bd = dt*self.B\n",
    "        self.nextX = X + self.Bd*U\n",
    "        #self.nextX = X + U\n",
    "        return 0\n",
    "    \n",
    "    def computeAllModelDeriv(self, dt, X, U):\n",
    "        self.fx = np.eye(4)\n",
    "        self.fu = self.B*dt\n",
    "        return self.fx, self.fxx, self.fu, self.fuu, self.fxu, self.fux"
   ]
  },
  {
   "cell_type": "code",
   "execution_count": 16,
   "metadata": {
    "collapsed": false
   },
   "outputs": [
    {
     "name": "stdout",
     "output_type": "stream",
     "text": [
      "15.3\n"
     ]
    }
   ],
   "source": [
    "import numpy as np\n",
    "\n",
    "x = list()\n",
    "x.append(np.matrix([[0,1,2,3],[4,5,6,7],[8,9,10,11],[12,13,14,15]]))\n",
    "x.append(np.matrix([[0.1,1.1,2.1,3.1],[4.1,5.1,6.1,7.1],[8.1,9.1,10.1,11.1],[12.1,13.1,14.1,15.1]]))\n",
    "x.append(np.matrix([[0.2,1.2,2.2,3.2],[4.2,5.2,6.2,7.2],[8.2,9.2,10.2,11.2],[12.2,13.2,14.2,15.2]]))\n",
    "x.append(np.matrix([[0.3,1.3,2.3,3.3],[4.3,5.3,6.3,7.3],[8.3,9.3,10.3,11.3],[12.3,13.3,14.3,15.3]]))\n",
    "\n",
    "print x[3][3,3]"
   ]
  },
  {
   "cell_type": "code",
   "execution_count": 56,
   "metadata": {
    "collapsed": false
   },
   "outputs": [
    {
     "name": "stdout",
     "output_type": "stream",
     "text": [
      "TRUE\n"
     ]
    }
   ],
   "source": [
    "if(3.25 > 1e-3):\n",
    "    print \"TRUE\""
   ]
  },
  {
   "cell_type": "code",
   "execution_count": 50,
   "metadata": {
    "collapsed": false
   },
   "outputs": [
    {
     "name": "stdout",
     "output_type": "stream",
     "text": [
      "List :  ['xyz', 'abc', 'zara', 'xyz', 123]\n"
     ]
    }
   ],
   "source": [
    "aList = [123, 'xyz', 'zara', 'abc', 'xyz'];\n",
    "\n",
    "aList.reverse();\n",
    "print \"List : \", aList"
   ]
  },
  {
   "cell_type": "code",
   "execution_count": 35,
   "metadata": {
    "collapsed": false
   },
   "outputs": [],
   "source": [
    "for i in range(1,1):\n",
    "    print i"
   ]
  },
  {
   "cell_type": "code",
   "execution_count": 41,
   "metadata": {
    "collapsed": false
   },
   "outputs": [
    {
     "name": "stdout",
     "output_type": "stream",
     "text": [
      "6\n"
     ]
    }
   ],
   "source": [
    "import numpy as np\n",
    "\n",
    "x = np.matrix([-1,2,-3])\n",
    "\n",
    "print np.sum(np.abs(x))"
   ]
  }
 ],
 "metadata": {
  "kernelspec": {
   "display_name": "Python 2",
   "language": "python",
   "name": "python2"
  },
  "language_info": {
   "codemirror_mode": {
    "name": "ipython",
    "version": 2
   },
   "file_extension": ".py",
   "mimetype": "text/x-python",
   "name": "python",
   "nbconvert_exporter": "python",
   "pygments_lexer": "ipython2",
   "version": "2.7.11"
  }
 },
 "nbformat": 4,
 "nbformat_minor": 0
}
